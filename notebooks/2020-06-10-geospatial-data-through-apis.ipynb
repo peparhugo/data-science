{
 "cells": [
  {
   "cell_type": "markdown",
   "metadata": {},
   "source": [
    "# GETTING GEOSPATIAL DATA THROUGH REST APIS IN PYTHON NOTEBOOK\n",
    "\n",
    "Description: Learn how to access geospatial data through the City of Regina's Open GIS endpoints\n",
    "\n",
    "[Blog Post](https://peparhugo.github.io/data-science/geospatial-data-through-apis.html)\n"
   ]
  },
  {
   "cell_type": "markdown",
   "metadata": {},
   "source": [
    "## Import Libraries"
   ]
  },
  {
   "cell_type": "code",
   "execution_count": 3,
   "metadata": {},
   "outputs": [],
   "source": [
    "import requests\n",
    "import pandas as pd\n",
    "import geopandas as gpd\n",
    "import shapely"
   ]
  },
  {
   "cell_type": "markdown",
   "metadata": {},
   "source": [
    "## Test Tree Web App API"
   ]
  },
  {
   "cell_type": "code",
   "execution_count": 74,
   "metadata": {},
   "outputs": [
    {
     "data": {
      "text/plain": [
       "{'displayFieldName': 'STREETNAMEFULL',\n",
       " 'fieldAliases': {'OBJECTID': 'OBJECTID',\n",
       "  'YEARINSTALLED': 'YEARINSTALLED',\n",
       "  'SPECIES': 'SPECIES',\n",
       "  'NOTES': 'NOTES',\n",
       "  'DBH': 'DBH',\n",
       "  'TREEVALUE': 'TreeValue',\n",
       "  'OWNER': 'OWNER',\n",
       "  'SIGNIFICANCE_TREE': 'SIGNIFICANCE_TREE',\n",
       "  'GLOBALID': 'GLOBALID',\n",
       "  'SOIL_AMENDMENT': 'SOIL_AMENDMENT'},\n",
       " 'geometryType': 'esriGeometryPoint',\n",
       " 'spatialReference': {'wkid': 4326, 'latestWkid': 4326},\n",
       " 'fields': [{'name': 'OBJECTID',\n",
       "   'type': 'esriFieldTypeOID',\n",
       "   'alias': 'OBJECTID'},\n",
       "  {'name': 'YEARINSTALLED',\n",
       "   'type': 'esriFieldTypeInteger',\n",
       "   'alias': 'YEARINSTALLED'},\n",
       "  {'name': 'SPECIES',\n",
       "   'type': 'esriFieldTypeString',\n",
       "   'alias': 'SPECIES',\n",
       "   'length': 50},\n",
       "  {'name': 'NOTES',\n",
       "   'type': 'esriFieldTypeString',\n",
       "   'alias': 'NOTES',\n",
       "   'length': 1000},\n",
       "  {'name': 'DBH', 'type': 'esriFieldTypeSmallInteger', 'alias': 'DBH'},\n",
       "  {'name': 'TREEVALUE', 'type': 'esriFieldTypeDouble', 'alias': 'TreeValue'},\n",
       "  {'name': 'OWNER',\n",
       "   'type': 'esriFieldTypeString',\n",
       "   'alias': 'OWNER',\n",
       "   'length': 50},\n",
       "  {'name': 'SIGNIFICANCE_TREE',\n",
       "   'type': 'esriFieldTypeString',\n",
       "   'alias': 'SIGNIFICANCE_TREE',\n",
       "   'length': 20},\n",
       "  {'name': 'GLOBALID',\n",
       "   'type': 'esriFieldTypeGlobalID',\n",
       "   'alias': 'GLOBALID',\n",
       "   'length': 38},\n",
       "  {'name': 'SOIL_AMENDMENT',\n",
       "   'type': 'esriFieldTypeString',\n",
       "   'alias': 'SOIL_AMENDMENT',\n",
       "   'length': 50}],\n",
       " 'features': [{'attributes': {'OBJECTID': 112557,\n",
       "    'YEARINSTALLED': None,\n",
       "    'SPECIES': 'American Elm',\n",
       "    'NOTES': None,\n",
       "    'DBH': 38,\n",
       "    'TREEVALUE': 13626.15,\n",
       "    'OWNER': 'City',\n",
       "    'SIGNIFICANCE_TREE': 'N',\n",
       "    'GLOBALID': '{00003627-F4BF-4684-8016-E3FE69BEDDBD}',\n",
       "    'SOIL_AMENDMENT': 'N'},\n",
       "   'geometry': {'x': -104.5969337525038, 'y': 50.40507010684367}}],\n",
       " 'exceededTransferLimit': True}"
      ]
     },
     "execution_count": 74,
     "metadata": {},
     "output_type": "execute_result"
    }
   ],
   "source": [
    "tree_app_url='https://opengis.regina.ca/arcgis/rest/services/CGISViewer/TreeWebApp/MapServer/0/query?outFields=*'\n",
    "resp=requests.get(url=tree_app_url,\n",
    "                 params=dict(\n",
    "                     f='json',\n",
    "                     returnGeometry='true',\n",
    "                     spatialRel='esriSpatialRelIntersects',\n",
    "                     where='(1=1) AND (1=1)',\n",
    "                     orderByFields='GLOBALID ASC',\n",
    "                     outSR=4326,\n",
    "                     resultOffset=0,\n",
    "                     resultRecordCount=1\n",
    "                 ))\n",
    "resp.json()"
   ]
  },
  {
   "cell_type": "markdown",
   "metadata": {},
   "source": [
    "## Retrieve all Tree Web App records"
   ]
  },
  {
   "cell_type": "code",
   "execution_count": 61,
   "metadata": {},
   "outputs": [
    {
     "name": "stdout",
     "output_type": "stream",
     "text": [
      "10000\n",
      "20000\n",
      "30000\n",
      "40000\n",
      "50000\n",
      "60000\n",
      "70000\n",
      "80000\n",
      "90000\n",
      "100000\n",
      "110000\n",
      "120000\n",
      "130000\n",
      "140000\n",
      "143375\n",
      "143375\n"
     ]
    }
   ],
   "source": [
    "results = []\n",
    "nbr_results = 1\n",
    "while nbr_results>0:\n",
    "    resp=requests.get(url=tree_app_url,\n",
    "                     params=dict(\n",
    "                         f='json',\n",
    "                         returnGeometry='true',\n",
    "                         spatialRel='esriSpatialRelIntersects',\n",
    "                         where='(1=1) AND (1=1)',\n",
    "                         orderByFields='GLOBALID ASC',\n",
    "                         outSR=4326,\n",
    "                         resultOffset=len(results),\n",
    "                         resultRecordCount=10000\n",
    "                     ))\n",
    "    nbr_results=len(resp.json()['features'])\n",
    "    results.extend(resp.json()['features'])\n",
    "    print(len(results))"
   ]
  },
  {
   "cell_type": "code",
   "execution_count": 62,
   "metadata": {},
   "outputs": [
    {
     "data": {
      "text/plain": [
       "143375"
      ]
     },
     "execution_count": 62,
     "metadata": {},
     "output_type": "execute_result"
    }
   ],
   "source": [
    "len(results)"
   ]
  },
  {
   "cell_type": "markdown",
   "metadata": {},
   "source": [
    "## Convert JSON records into dataframe"
   ]
  },
  {
   "cell_type": "code",
   "execution_count": 75,
   "metadata": {},
   "outputs": [
    {
     "data": {
      "text/plain": [
       "(143373, 11)"
      ]
     },
     "execution_count": 75,
     "metadata": {},
     "output_type": "execute_result"
    }
   ],
   "source": [
    "data = pd.DataFrame([{**doc['attributes'],\"geometry\":doc.get('geometry')} for doc in results])\n",
    "data=data[data.geometry.isna()==False]\n",
    "data.shape"
   ]
  },
  {
   "cell_type": "markdown",
   "metadata": {},
   "source": [
    "## Convert dataframe into geodataframe"
   ]
  },
  {
   "cell_type": "code",
   "execution_count": 69,
   "metadata": {},
   "outputs": [
    {
     "data": {
      "text/html": [
       "<div>\n",
       "<style scoped>\n",
       "    .dataframe tbody tr th:only-of-type {\n",
       "        vertical-align: middle;\n",
       "    }\n",
       "\n",
       "    .dataframe tbody tr th {\n",
       "        vertical-align: top;\n",
       "    }\n",
       "\n",
       "    .dataframe thead th {\n",
       "        text-align: right;\n",
       "    }\n",
       "</style>\n",
       "<table border=\"1\" class=\"dataframe\">\n",
       "  <thead>\n",
       "    <tr style=\"text-align: right;\">\n",
       "      <th></th>\n",
       "      <th>OBJECTID</th>\n",
       "      <th>YEARINSTALLED</th>\n",
       "      <th>SPECIES</th>\n",
       "      <th>NOTES</th>\n",
       "      <th>DBH</th>\n",
       "      <th>TREEVALUE</th>\n",
       "      <th>OWNER</th>\n",
       "      <th>SIGNIFICANCE_TREE</th>\n",
       "      <th>GLOBALID</th>\n",
       "      <th>SOIL_AMENDMENT</th>\n",
       "      <th>geometry</th>\n",
       "    </tr>\n",
       "  </thead>\n",
       "  <tbody>\n",
       "    <tr>\n",
       "      <th>0</th>\n",
       "      <td>112557</td>\n",
       "      <td>NaN</td>\n",
       "      <td>American Elm</td>\n",
       "      <td>None</td>\n",
       "      <td>38.0</td>\n",
       "      <td>13626.15</td>\n",
       "      <td>City</td>\n",
       "      <td>N</td>\n",
       "      <td>{00003627-F4BF-4684-8016-E3FE69BEDDBD}</td>\n",
       "      <td>N</td>\n",
       "      <td>POINT (-104.59693 50.40507)</td>\n",
       "    </tr>\n",
       "    <tr>\n",
       "      <th>1</th>\n",
       "      <td>551767</td>\n",
       "      <td>NaN</td>\n",
       "      <td>American Elm</td>\n",
       "      <td>None</td>\n",
       "      <td>28.0</td>\n",
       "      <td>7398.13</td>\n",
       "      <td>City</td>\n",
       "      <td>None</td>\n",
       "      <td>{00007D45-7F68-4517-850F-A19588A465E3}</td>\n",
       "      <td>N</td>\n",
       "      <td>POINT (-104.62509 50.41370)</td>\n",
       "    </tr>\n",
       "    <tr>\n",
       "      <th>2</th>\n",
       "      <td>569980</td>\n",
       "      <td>NaN</td>\n",
       "      <td>Poplar</td>\n",
       "      <td>None</td>\n",
       "      <td>48.0</td>\n",
       "      <td>14420.35</td>\n",
       "      <td>City</td>\n",
       "      <td>None</td>\n",
       "      <td>{00008661-7277-4C4D-941F-A6008E109651}</td>\n",
       "      <td>N</td>\n",
       "      <td>POINT (-104.67830 50.45861)</td>\n",
       "    </tr>\n",
       "    <tr>\n",
       "      <th>3</th>\n",
       "      <td>296854</td>\n",
       "      <td>NaN</td>\n",
       "      <td>Green Ash</td>\n",
       "      <td>Centre median</td>\n",
       "      <td>29.0</td>\n",
       "      <td>7693.07</td>\n",
       "      <td>City</td>\n",
       "      <td>None</td>\n",
       "      <td>{0000D103-3553-40F2-9617-7713D4B02203}</td>\n",
       "      <td>N</td>\n",
       "      <td>POINT (-104.60520 50.44078)</td>\n",
       "    </tr>\n",
       "    <tr>\n",
       "      <th>4</th>\n",
       "      <td>299752</td>\n",
       "      <td>NaN</td>\n",
       "      <td>American Elm</td>\n",
       "      <td>Side Boulevard</td>\n",
       "      <td>63.0</td>\n",
       "      <td>37453.05</td>\n",
       "      <td>City</td>\n",
       "      <td>None</td>\n",
       "      <td>{00011879-CE3A-4170-9EB2-C546019DF5A2}</td>\n",
       "      <td>N</td>\n",
       "      <td>POINT (-104.60085 50.44707)</td>\n",
       "    </tr>\n",
       "  </tbody>\n",
       "</table>\n",
       "</div>"
      ],
      "text/plain": [
       "   OBJECTID  YEARINSTALLED       SPECIES           NOTES   DBH  TREEVALUE  \\\n",
       "0    112557            NaN  American Elm            None  38.0   13626.15   \n",
       "1    551767            NaN  American Elm            None  28.0    7398.13   \n",
       "2    569980            NaN        Poplar            None  48.0   14420.35   \n",
       "3    296854            NaN     Green Ash   Centre median  29.0    7693.07   \n",
       "4    299752            NaN  American Elm  Side Boulevard  63.0   37453.05   \n",
       "\n",
       "  OWNER SIGNIFICANCE_TREE                                GLOBALID  \\\n",
       "0  City                 N  {00003627-F4BF-4684-8016-E3FE69BEDDBD}   \n",
       "1  City              None  {00007D45-7F68-4517-850F-A19588A465E3}   \n",
       "2  City              None  {00008661-7277-4C4D-941F-A6008E109651}   \n",
       "3  City              None  {0000D103-3553-40F2-9617-7713D4B02203}   \n",
       "4  City              None  {00011879-CE3A-4170-9EB2-C546019DF5A2}   \n",
       "\n",
       "  SOIL_AMENDMENT                     geometry  \n",
       "0              N  POINT (-104.59693 50.40507)  \n",
       "1              N  POINT (-104.62509 50.41370)  \n",
       "2              N  POINT (-104.67830 50.45861)  \n",
       "3              N  POINT (-104.60520 50.44078)  \n",
       "4              N  POINT (-104.60085 50.44707)  "
      ]
     },
     "execution_count": 69,
     "metadata": {},
     "output_type": "execute_result"
    }
   ],
   "source": [
    "geodata = gpd.GeoDataFrame(data.drop(columns=['geometry']),\n",
    "                           geometry=data.geometry.map(lambda x: shapely.geometry.Point(float(x['x']),\n",
    "                                                                                      float(x['y']))))\n",
    "geodata.head()"
   ]
  },
  {
   "cell_type": "markdown",
   "metadata": {},
   "source": [
    "## Retrieve all Neighbourhood records"
   ]
  },
  {
   "cell_type": "code",
   "execution_count": 77,
   "metadata": {},
   "outputs": [
    {
     "data": {
      "text/plain": [
       "[{'attributes': {'OBJECTID': 1,\n",
       "   'CA': 'WHITMORE PARK',\n",
       "   'NEIGH_AREA': ' ',\n",
       "   'Shape_Length': 7504.10496471471,\n",
       "   'Shape_Area': 2936200.4533456834,\n",
       "   'PDF_Link': 'https://regina.ca/about-regina/neighbourhood-profiles/.galleries/pdfs/whitmore-park.pdf'},\n",
       "  'geometry': {'rings': [[[-104.60905929785373, 50.415484024136795],\n",
       "     [-104.60904849233098, 50.411883493529444],\n",
       "     [-104.60030508176132, 50.411887900916504],\n",
       "     [-104.60030517330979, 50.411046775773706],\n",
       "     [-104.59784252726828, 50.41044205125727],\n",
       "     [-104.59571523346489, 50.40954850106288],\n",
       "     [-104.59564430865197, 50.40961735762469],\n",
       "     [-104.5952625400897, 50.40989199803777],\n",
       "     [-104.59440614601492, 50.41034860298679],\n",
       "     [-104.5942343353836, 50.4102063677372],\n",
       "     [-104.59408080049744, 50.410079260935355],\n",
       "     [-104.59390699951967, 50.40994766740371],\n",
       "     [-104.59375398512901, 50.40985189429068],\n",
       "     [-104.59356404811005, 50.40974281118223],\n",
       "     [-104.59338334476092, 50.40965782652863],\n",
       "     [-104.58951311575542, 50.407980774830264],\n",
       "     [-104.59861523339521, 50.399153428136756],\n",
       "     [-104.59989918211983, 50.398235051177565],\n",
       "     [-104.60062218285954, 50.39764052606164],\n",
       "     [-104.60131574254478, 50.397250696771835],\n",
       "     [-104.60207627869188, 50.39696260272018],\n",
       "     [-104.60255323435558, 50.39679452715815],\n",
       "     [-104.60256362728032, 50.39679456266412],\n",
       "     [-104.60297313717075, 50.396707668396076],\n",
       "     [-104.60346963466927, 50.39660932463734],\n",
       "     [-104.60397677627205, 50.39654005673168],\n",
       "     [-104.6047315761789, 50.39644730008961],\n",
       "     [-104.60562932123668, 50.396414310918885],\n",
       "     [-104.60656264221495, 50.39642011788557],\n",
       "     [-104.60656377327712, 50.397322578373455],\n",
       "     [-104.618328978457, 50.39732387208351],\n",
       "     [-104.6182808166161, 50.400994008660824],\n",
       "     [-104.61814635588311, 50.404497875457466],\n",
       "     [-104.61809045972167, 50.415499066284276],\n",
       "     [-104.60905929785373, 50.415484024136795]]]}}]"
      ]
     },
     "execution_count": 77,
     "metadata": {},
     "output_type": "execute_result"
    }
   ],
   "source": [
    "resp=requests.get(url=\"https://opengis.regina.ca/arcgis/rest/services/CGISViewer/Neighbourhood_Profile/MapServer/0/query?outFields=*\",\n",
    "                     params=dict(\n",
    "                         f='json',\n",
    "                         returnGeometry='true',\n",
    "                         spatialRel='esriSpatialRelIntersects',\n",
    "                         where='(1=1) AND (1=1)',\n",
    "                         outSR=4326,\n",
    "                         resultOffset=0,\n",
    "                         resultRecordCount=10000\n",
    "                     ))\n",
    "resp.json()['features'][0:1]"
   ]
  },
  {
   "cell_type": "markdown",
   "metadata": {},
   "source": [
    "## Create geodataframe"
   ]
  },
  {
   "cell_type": "code",
   "execution_count": 79,
   "metadata": {},
   "outputs": [
    {
     "data": {
      "text/html": [
       "<div>\n",
       "<style scoped>\n",
       "    .dataframe tbody tr th:only-of-type {\n",
       "        vertical-align: middle;\n",
       "    }\n",
       "\n",
       "    .dataframe tbody tr th {\n",
       "        vertical-align: top;\n",
       "    }\n",
       "\n",
       "    .dataframe thead th {\n",
       "        text-align: right;\n",
       "    }\n",
       "</style>\n",
       "<table border=\"1\" class=\"dataframe\">\n",
       "  <thead>\n",
       "    <tr style=\"text-align: right;\">\n",
       "      <th></th>\n",
       "      <th>OBJECTID</th>\n",
       "      <th>CA</th>\n",
       "      <th>NEIGH_AREA</th>\n",
       "      <th>Shape_Length</th>\n",
       "      <th>Shape_Area</th>\n",
       "      <th>PDF_Link</th>\n",
       "      <th>geometry</th>\n",
       "    </tr>\n",
       "  </thead>\n",
       "  <tbody>\n",
       "    <tr>\n",
       "      <th>0</th>\n",
       "      <td>1</td>\n",
       "      <td>WHITMORE PARK</td>\n",
       "      <td></td>\n",
       "      <td>7504.104965</td>\n",
       "      <td>2.936200e+06</td>\n",
       "      <td>https://regina.ca/about-regina/neighbourhood-p...</td>\n",
       "      <td>POLYGON ((-104.60906 50.41548, -104.60905 50.4...</td>\n",
       "    </tr>\n",
       "    <tr>\n",
       "      <th>1</th>\n",
       "      <td>2</td>\n",
       "      <td>CENTRE SQUARE</td>\n",
       "      <td></td>\n",
       "      <td>3085.068648</td>\n",
       "      <td>5.928274e+05</td>\n",
       "      <td>https://regina.ca/about-regina/neighbourhood-p...</td>\n",
       "      <td>POLYGON ((-104.61370 50.44077, -104.61806 50.4...</td>\n",
       "    </tr>\n",
       "    <tr>\n",
       "      <th>2</th>\n",
       "      <td>3</td>\n",
       "      <td>UPLANDS</td>\n",
       "      <td></td>\n",
       "      <td>8385.793704</td>\n",
       "      <td>3.581797e+06</td>\n",
       "      <td>https://regina.ca/about-regina/neighbourhood-p...</td>\n",
       "      <td>POLYGON ((-104.59498 50.50618, -104.59499 50.4...</td>\n",
       "    </tr>\n",
       "    <tr>\n",
       "      <th>3</th>\n",
       "      <td>4</td>\n",
       "      <td>TWIN LAKES</td>\n",
       "      <td></td>\n",
       "      <td>7206.786977</td>\n",
       "      <td>3.260129e+06</td>\n",
       "      <td>https://regina.ca/about-regina/neighbourhood-p...</td>\n",
       "      <td>POLYGON ((-104.67508 50.51329, -104.67508 50.5...</td>\n",
       "    </tr>\n",
       "    <tr>\n",
       "      <th>4</th>\n",
       "      <td>5</td>\n",
       "      <td>PRAIRIE VIEW</td>\n",
       "      <td></td>\n",
       "      <td>8671.983244</td>\n",
       "      <td>3.971544e+06</td>\n",
       "      <td>https://regina.ca/about-regina/neighbourhood-p...</td>\n",
       "      <td>POLYGON ((-104.69842 50.48434, -104.68789 50.4...</td>\n",
       "    </tr>\n",
       "  </tbody>\n",
       "</table>\n",
       "</div>"
      ],
      "text/plain": [
       "   OBJECTID             CA NEIGH_AREA  Shape_Length    Shape_Area  \\\n",
       "0         1  WHITMORE PARK              7504.104965  2.936200e+06   \n",
       "1         2  CENTRE SQUARE              3085.068648  5.928274e+05   \n",
       "2         3        UPLANDS              8385.793704  3.581797e+06   \n",
       "3         4     TWIN LAKES              7206.786977  3.260129e+06   \n",
       "4         5   PRAIRIE VIEW              8671.983244  3.971544e+06   \n",
       "\n",
       "                                            PDF_Link  \\\n",
       "0  https://regina.ca/about-regina/neighbourhood-p...   \n",
       "1  https://regina.ca/about-regina/neighbourhood-p...   \n",
       "2  https://regina.ca/about-regina/neighbourhood-p...   \n",
       "3  https://regina.ca/about-regina/neighbourhood-p...   \n",
       "4  https://regina.ca/about-regina/neighbourhood-p...   \n",
       "\n",
       "                                            geometry  \n",
       "0  POLYGON ((-104.60906 50.41548, -104.60905 50.4...  \n",
       "1  POLYGON ((-104.61370 50.44077, -104.61806 50.4...  \n",
       "2  POLYGON ((-104.59498 50.50618, -104.59499 50.4...  \n",
       "3  POLYGON ((-104.67508 50.51329, -104.67508 50.5...  \n",
       "4  POLYGON ((-104.69842 50.48434, -104.68789 50.4...  "
      ]
     },
     "execution_count": 79,
     "metadata": {},
     "output_type": "execute_result"
    }
   ],
   "source": [
    "data_nbh = pd.DataFrame([{**doc['attributes'],\"geometry\":doc.get('geometry')} for doc in resp.json()['features']])\n",
    "geo_nbh = gpd.GeoDataFrame(data_nbh.drop(columns=['geometry']),\n",
    "                           geometry=data_nbh.geometry.map(lambda doc: shapely.geometry.Polygon(doc['rings'][0])))\n",
    "geo_nbh.head()"
   ]
  }
 ],
 "metadata": {
  "kernelspec": {
   "display_name": "Python 3",
   "language": "python",
   "name": "python3"
  },
  "language_info": {
   "codemirror_mode": {
    "name": "ipython",
    "version": 3
   },
   "file_extension": ".py",
   "mimetype": "text/x-python",
   "name": "python",
   "nbconvert_exporter": "python",
   "pygments_lexer": "ipython3",
   "version": "3.7.3"
  }
 },
 "nbformat": 4,
 "nbformat_minor": 2
}
